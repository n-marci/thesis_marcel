{
 "cells": [
  {
   "cell_type": "markdown",
   "id": "2e6d8361-c8a6-4d6f-8f74-962954a2daac",
   "metadata": {},
   "source": [
    "## These are some calculations for my simulation"
   ]
  },
  {
   "cell_type": "code",
   "execution_count": null,
   "id": "d848410c-daaf-4877-b0b1-8c94bd89f57c",
   "metadata": {},
   "outputs": [],
   "source": [
    "# area for envelope glass\n",
    "# total heat flow env. glass\n",
    "    # conductive\n",
    "    # lumped convective\n",
    "    \n",
    "# area for building facade\n",
    "# total heat flow\n",
    "    # cond.\n",
    "    # lump. conv.\n",
    "\n",
    "# area for building glass\n",
    "# total heat flow\n",
    "    # cond.\n",
    "    # lump. conv."
   ]
  }
 ],
 "metadata": {
  "kernelspec": {
   "display_name": "python-minimal kernel",
   "language": "python",
   "name": "python-minimal"
  },
  "language_info": {
   "codemirror_mode": {
    "name": "ipython",
    "version": 3
   },
   "file_extension": ".py",
   "mimetype": "text/x-python",
   "name": "python",
   "nbconvert_exporter": "python",
   "pygments_lexer": "ipython3",
   "version": "3.10.9"
  }
 },
 "nbformat": 4,
 "nbformat_minor": 5
}
