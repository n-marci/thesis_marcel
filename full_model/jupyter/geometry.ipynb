{
 "cells": [
  {
   "cell_type": "markdown",
   "id": "352a697a-28b4-44f3-ad22-9b49e73d92b7",
   "metadata": {},
   "source": [
    "# Scale and Geometric calculations"
   ]
  },
  {
   "cell_type": "code",
   "execution_count": 14,
   "id": "54559a1c-1595-4e1c-a170-435b1cbd6fe9",
   "metadata": {
    "tags": []
   },
   "outputs": [
    {
     "name": "stdout",
     "output_type": "stream",
     "text": [
      "Total area of facade: 523.2 m²\n",
      "Total area of building glass: 581.04 m²\n",
      "Total area of envelope glass: 1104.24 m²\n"
     ]
    }
   ],
   "source": [
    "# volume of air inside the farm\n",
    "# suppose 0.5 m of depth inside the farm\n",
    "\n",
    "# geometric characteristica in mm\n",
    "thickness_concrete = 180\n",
    "thickness_xps = 50\n",
    "thickness_glass = 25\n",
    "\n",
    "# area of the building facade\n",
    "area_single_small_concrete_panel = (1200 * 3 * 1650) / 1000000\n",
    "number_small_concrete_panels_one_floor = 12\n",
    "area_single_big_concrete_panel = (1200 * 4 * 2900) / 1000000\n",
    "number_big_concrete_panels_one_floor = 2\n",
    "area_building_facade_one_floor = area_single_small_concrete_panel * number_small_concrete_panels_one_floor + area_single_big_concrete_panel + number_big_concrete_panels_one_floor\n",
    "area_building_facade = area_building_facade_one_floor * 6 # consider six floors - uppermost floor not used to accomodate transport platform\n",
    "print(f\"Total area of facade: {area_building_facade} m²\")\n",
    "\n",
    "# area for building glass\n",
    "# one 'single' window corresponds to one concrete panel (3*1.2m), since they are not uniformly placed on the building\n",
    "area_single_small_window = (1200 * 3 * 850) / 1000000\n",
    "area_single_big_window = (1200 * 3 * 2100) / 1000000\n",
    "area_building_glass_one_floor = area_single_small_window * number_big_concrete_panels_one_floor + area_single_big_window * number_small_concrete_panels_one_floor\n",
    "      # small window corresponds to big concrete panel\n",
    "area_building_glass = area_building_glass_one_floor * 6\n",
    "print(f\"Total area of building glass: {area_building_glass} m²\")\n",
    "    \n",
    "# area for envelope glass\n",
    "# calculate envelope glass area as the sum of facade and building glass area - this gives the total area of the face of the building\n",
    "# TODO right now I am neglecting the sides and top areas\n",
    "area_envelope_glass = area_building_facade + area_building_glass\n",
    "print(f\"Total area of envelope glass: {area_envelope_glass} m²\")"
   ]
  },
  {
   "cell_type": "code",
   "execution_count": null,
   "id": "5abf70ab-0ac1-44ab-b017-293484ad6e4f",
   "metadata": {},
   "outputs": [],
   "source": []
  }
 ],
 "metadata": {
  "kernelspec": {
   "display_name": "Python 3 (ipykernel)",
   "language": "python",
   "name": "python3"
  },
  "language_info": {
   "codemirror_mode": {
    "name": "ipython",
    "version": 3
   },
   "file_extension": ".py",
   "mimetype": "text/x-python",
   "name": "python",
   "nbconvert_exporter": "python",
   "pygments_lexer": "ipython3",
   "version": "3.10.9"
  }
 },
 "nbformat": 4,
 "nbformat_minor": 5
}
