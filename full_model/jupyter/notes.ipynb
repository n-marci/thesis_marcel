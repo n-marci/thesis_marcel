{
 "cells": [
  {
   "cell_type": "markdown",
   "id": "f26bf190-a51d-4db6-8927-7c6c5354adbf",
   "metadata": {},
   "source": [
    "# TODO\n",
    "\n",
    "- Consider Heat capacities of the different systems\n",
    "    - Heat cap. of building facade + building glass\n",
    "    - Heat cap. of envelope glass\n",
    "    - Heat cap. of plant panels\n",
    "    - Heat cap. of plants\n",
    "    - Heat cap. of water inside piping\n",
    " \n",
    "- Latent heat flow because of water evaporating at the plant\n",
    " \n",
    "# NEGLECT\n",
    "\n",
    "- Heat flow to soil, since area is quite small in"
   ]
  },
  {
   "cell_type": "code",
   "execution_count": null,
   "id": "3fcd4603-eb9e-436f-b01b-f3b3f26f85b0",
   "metadata": {},
   "outputs": [],
   "source": []
  }
 ],
 "metadata": {
  "kernelspec": {
   "display_name": "Python 3 (ipykernel)",
   "language": "python",
   "name": "python3"
  },
  "language_info": {
   "codemirror_mode": {
    "name": "ipython",
    "version": 3
   },
   "file_extension": ".py",
   "mimetype": "text/x-python",
   "name": "python",
   "nbconvert_exporter": "python",
   "pygments_lexer": "ipython3",
   "version": "3.12.3"
  }
 },
 "nbformat": 4,
 "nbformat_minor": 5
}
