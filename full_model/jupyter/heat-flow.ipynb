{
 "cells": [
  {
   "cell_type": "markdown",
   "id": "2e6d8361-c8a6-4d6f-8f74-962954a2daac",
   "metadata": {
    "tags": []
   },
   "source": [
    "# Heat flow calculations"
   ]
  },
  {
   "cell_type": "code",
   "execution_count": 1,
   "id": "2ed87004-a054-4520-899b-6970a0ab0fb3",
   "metadata": {
    "tags": []
   },
   "outputs": [
    {
     "name": "stdout",
     "output_type": "stream",
     "text": [
      "Total area of facade: 523.2 m²\n",
      "Total area of building glass: 581.04 m²\n",
      "Total area of envelope glass: 1236.9 m²\n",
      "Total volume of farm air: 594.0 m³\n"
     ]
    }
   ],
   "source": [
    "# import geometry calculations\n",
    "%run geometry.ipynb"
   ]
  },
  {
   "cell_type": "code",
   "execution_count": 2,
   "id": "d848410c-daaf-4877-b0b1-8c94bd89f57c",
   "metadata": {
    "tags": []
   },
   "outputs": [
    {
     "name": "stdout",
     "output_type": "stream",
     "text": [
      "U-value for the facade: 0.6622516556291391 W/(m²K)\n",
      "Total heat flow from farm through building facade: 346.4900662251656 W/K\n",
      "U-value for insulation glass: 1.986754966887417 W/(m²K)\n",
      "Total heat flow from farm through building windows: 1154.3841059602646 W/K\n",
      "Total heat flow from farm through envelope glass: 2457.417218543046 W/K\n"
     ]
    }
   ],
   "source": [
    "### heat flow relevant parameters:\n",
    "## https://www.ubakus.de/en/r-value-calculator/?\n",
    "\n",
    "# Thermal contact resistances for the calculation of the U-value have been taken from DIN 6946 Table 7.\n",
    "rsi = 0.130 # interior thermal contact resistance\n",
    "rse = 0.040 # exterior thermal contact resistance\n",
    "\n",
    "# thermal conductivity λ for the different materials in W/(mK)\n",
    "lambda_concrete = 2.000\n",
    "lambda_xps = 0.040\n",
    "lambda_glass = 0.075 # lambda for insulation glass\n",
    "\n",
    "## values of interest for the building facade\n",
    "r_concrete = (thickness_concrete/1000) / lambda_concrete # r-value\n",
    "r_xps = (thickness_xps/1000) / lambda_xps # r-value\n",
    "r_facade = rsi + r_concrete + r_xps + rse\n",
    "u_building_facade = 1 / r_facade\n",
    "print(f\"U-value for the facade: {u_building_facade} W/(m²K)\")\n",
    "\n",
    "# total heat flow between farm and building facade\n",
    "heat_flow_building_facade = u_building_facade * area_building_facade\n",
    "print(f\"Total heat flow from farm through building facade: {heat_flow_building_facade} W/K\")\n",
    "    # break up into conductive and convective heat flow?? - Or is this already taken care of by the thermal contact resistances??\n",
    "    # cond.\n",
    "    # lump. conv.\n",
    "\n",
    "## values of interest for the building glass\n",
    "r_glass = (thickness_glass/1000) / lambda_glass\n",
    "u_glass = 1 / (rsi + r_glass + rse)\n",
    "print(f\"U-value for insulation glass: {u_glass} W/(m²K)\")\n",
    "\n",
    "# total heat flow between farm and building glass\n",
    "heat_flow_building_glass = u_glass * area_building_glass\n",
    "print(f\"Total heat flow from farm through building windows: {heat_flow_building_glass} W/K\")\n",
    "    # cond.\n",
    "    # lump. conv.\n",
    "\n",
    "# total heat flow env. glass\n",
    "heat_flow_envelope_glass = u_glass * area_envelope_glass\n",
    "print(f\"Total heat flow from farm through envelope glass: {heat_flow_envelope_glass} W/K\")\n",
    "\n",
    "    # conductive\n",
    "    # lumped convective\n",
    "    "
   ]
  },
  {
   "cell_type": "markdown",
   "id": "10e0a150-1b14-4e93-b99a-d17b644895bd",
   "metadata": {},
   "source": [
    "# Heat capacity calculations"
   ]
  },
  {
   "cell_type": "code",
   "execution_count": 6,
   "id": "227d3bfd-2f36-4519-8b05-d7b4e0423a3e",
   "metadata": {},
   "outputs": [
    {
     "name": "stdout",
     "output_type": "stream",
     "text": [
      "Total heat capacity of building concrete: 290062080.00000006\n"
     ]
    }
   ],
   "source": [
    "density_concrete = 3500 # kg/m³ - https://www.engineeringenotes.com/concrete-technology/high-density-concrete/high-density-concrete-types-and-properties-concrete-technology/31860\n",
    "volume_concrete = area_building_facade * thickness_concrete/1000\n",
    "specific_heat_cap_concrete = 880 # J/(kg*K) - https://en.wikipedia.org/wiki/Table_of_specific_heat_capacities\n",
    "total_heat_cap_concrete = specific_heat_cap_concrete * density_concrete * volume_concrete\n",
    "print(f\"Total heat capacity of building concrete: {total_heat_cap_concrete}\")\n",
    "# heat_cap_xps = 1300 # J/(kg*K) - DOI 10.1088/1742-6596/2069/1/012090\n",
    "    # neglect xps since it is not directly interfacing with the farm?"
   ]
  },
  {
   "cell_type": "code",
   "execution_count": null,
   "id": "0f6d7718-ccbe-4e5e-b7da-d5ac9bd39716",
   "metadata": {},
   "outputs": [],
   "source": []
  }
 ],
 "metadata": {
  "kernelspec": {
   "display_name": "Python 3 (ipykernel)",
   "language": "python",
   "name": "python3"
  },
  "language_info": {
   "codemirror_mode": {
    "name": "ipython",
    "version": 3
   },
   "file_extension": ".py",
   "mimetype": "text/x-python",
   "name": "python",
   "nbconvert_exporter": "python",
   "pygments_lexer": "ipython3",
   "version": "3.12.3"
  }
 },
 "nbformat": 4,
 "nbformat_minor": 5
}
